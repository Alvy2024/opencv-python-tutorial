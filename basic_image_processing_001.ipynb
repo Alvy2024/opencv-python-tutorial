{
 "cells": [
  {
   "cell_type": "markdown",
   "metadata": {},
   "source": [
    "数据读取-图像\n",
    "\n",
    "· cv2.IMREAD_COLOR: 彩色图像\n",
    "\n",
    "· cv2.IMREAD_GRAYSCALE: 灰度图像"
   ]
  },
  {
   "cell_type": "code",
   "execution_count": 1,
   "metadata": {},
   "outputs": [],
   "source": [
    "import cv2 #opencv读取的格式是BGR\n",
    "import matplotlib.pyplot as plt\n",
    "import numpy as np\n",
    "%matplotlib inline"
   ]
  },
  {
   "cell_type": "code",
   "execution_count": 2,
   "metadata": {},
   "outputs": [],
   "source": [
    "# load image\n",
    "img = cv2.imread('C:/Computer_Vision/OpenCV-Python/references/img001.jpg')"
   ]
  },
  {
   "cell_type": "code",
   "execution_count": 3,
   "metadata": {},
   "outputs": [
    {
     "data": {
      "text/plain": [
       "array([[[255, 255, 250],\n",
       "        [255, 255, 251],\n",
       "        [255, 254, 251],\n",
       "        ...,\n",
       "        [251, 250, 246],\n",
       "        [254, 251, 247],\n",
       "        [246, 243, 239]],\n",
       "\n",
       "       [[242, 233, 229],\n",
       "        [242, 233, 229],\n",
       "        [246, 237, 233],\n",
       "        ...,\n",
       "        [252, 249, 245],\n",
       "        [253, 248, 245],\n",
       "        [255, 253, 250]],\n",
       "\n",
       "       [[172, 158, 152],\n",
       "        [168, 154, 148],\n",
       "        [170, 156, 150],\n",
       "        ...,\n",
       "        [185, 178, 175],\n",
       "        [186, 179, 176],\n",
       "        [182, 175, 172]],\n",
       "\n",
       "       ...,\n",
       "\n",
       "       [[162, 150, 150],\n",
       "        [161, 149, 149],\n",
       "        [163, 149, 150],\n",
       "        ...,\n",
       "        [143, 127, 121],\n",
       "        [144, 125, 120],\n",
       "        [143, 124, 119]],\n",
       "\n",
       "       [[163, 151, 149],\n",
       "        [164, 152, 150],\n",
       "        [164, 150, 151],\n",
       "        ...,\n",
       "        [141, 125, 119],\n",
       "        [142, 125, 122],\n",
       "        [142, 125, 122]],\n",
       "\n",
       "       [[166, 155, 151],\n",
       "        [164, 153, 149],\n",
       "        [166, 152, 153],\n",
       "        ...,\n",
       "        [142, 126, 120],\n",
       "        [143, 126, 123],\n",
       "        [142, 125, 122]]], dtype=uint8)"
      ]
     },
     "execution_count": 3,
     "metadata": {},
     "output_type": "execute_result"
    }
   ],
   "source": [
    "# 目前是h,w,c 三维图像\n",
    "img"
   ]
  },
  {
   "cell_type": "code",
   "execution_count": 4,
   "metadata": {},
   "outputs": [],
   "source": [
    "# 图像的显示，也可以创建多个窗口\n",
    "cv2.imshow('img', img)\n",
    "# 等待时间，毫秒级，0表示任意键终止\n",
    "cv2.waitKey(0)\n",
    "cv2.destroyAllWindows()"
   ]
  },
  {
   "cell_type": "code",
   "execution_count": 5,
   "metadata": {},
   "outputs": [],
   "source": [
    "def cv_show(name, img):\n",
    "    cv2.imshow(name, img)\n",
    "    cv2.waitKey(0)\n",
    "    cv2.destroyAllWindows()"
   ]
  },
  {
   "cell_type": "code",
   "execution_count": 6,
   "metadata": {},
   "outputs": [
    {
     "data": {
      "text/plain": [
       "(720, 720, 3)"
      ]
     },
     "execution_count": 6,
     "metadata": {},
     "output_type": "execute_result"
    }
   ],
   "source": [
    "img.shape"
   ]
  },
  {
   "cell_type": "code",
   "execution_count": 7,
   "metadata": {},
   "outputs": [
    {
     "data": {
      "text/plain": [
       "array([[254, 255, 254, ..., 249, 250, 242],\n",
       "       [233, 233, 237, ..., 248, 248, 253],\n",
       "       [158, 154, 156, ..., 178, 179, 175],\n",
       "       ...,\n",
       "       [151, 150, 151, ..., 127, 126, 125],\n",
       "       [152, 153, 152, ..., 125, 126, 126],\n",
       "       [155, 153, 154, ..., 126, 127, 126]], dtype=uint8)"
      ]
     },
     "execution_count": 7,
     "metadata": {},
     "output_type": "execute_result"
    }
   ],
   "source": [
    "img = cv2.imread('C:/Computer_Vision/OpenCV-Python/references/img001.jpg', cv2.IMREAD_GRAYSCALE)\n",
    "# 变成了h,w二维图像\n",
    "img"
   ]
  },
  {
   "cell_type": "code",
   "execution_count": 8,
   "metadata": {},
   "outputs": [
    {
     "data": {
      "text/plain": [
       "(720, 720)"
      ]
     },
     "execution_count": 8,
     "metadata": {},
     "output_type": "execute_result"
    }
   ],
   "source": [
    "img.shape"
   ]
  },
  {
   "cell_type": "code",
   "execution_count": 9,
   "metadata": {},
   "outputs": [],
   "source": [
    "cv_show('img', img)"
   ]
  },
  {
   "cell_type": "code",
   "execution_count": 10,
   "metadata": {},
   "outputs": [
    {
     "data": {
      "text/plain": [
       "True"
      ]
     },
     "execution_count": 10,
     "metadata": {},
     "output_type": "execute_result"
    }
   ],
   "source": [
    "# 保存图像\n",
    "cv2.imwrite('C:/Computer_Vision/OpenCV-Python/references/img001_gray.jpg', img)"
   ]
  },
  {
   "cell_type": "code",
   "execution_count": 11,
   "metadata": {},
   "outputs": [
    {
     "data": {
      "text/plain": [
       "numpy.ndarray"
      ]
     },
     "execution_count": 11,
     "metadata": {},
     "output_type": "execute_result"
    }
   ],
   "source": [
    "# 图片底层类型\n",
    "type(img)"
   ]
  },
  {
   "cell_type": "code",
   "execution_count": 12,
   "metadata": {},
   "outputs": [
    {
     "data": {
      "text/plain": [
       "518400"
      ]
     },
     "execution_count": 12,
     "metadata": {},
     "output_type": "execute_result"
    }
   ],
   "source": [
    "img.size"
   ]
  },
  {
   "cell_type": "code",
   "execution_count": 13,
   "metadata": {},
   "outputs": [
    {
     "data": {
      "text/plain": [
       "dtype('uint8')"
      ]
     },
     "execution_count": 13,
     "metadata": {},
     "output_type": "execute_result"
    }
   ],
   "source": [
    "img.dtype"
   ]
  },
  {
   "cell_type": "markdown",
   "metadata": {},
   "source": [
    "数据读取-视频\n",
    "\n",
    "· cv2.VideoCapture可以捕捉摄像头，用数字来控制不同的设备，例如0、1。\n",
    "· 如果是视频文件，直接指定好路径即可。"
   ]
  },
  {
   "cell_type": "code",
   "execution_count": 15,
   "metadata": {},
   "outputs": [],
   "source": [
    "vc = cv2.VideoCapture('C:/Computer_Vision/OpenCV-Python/references/video.mp4')"
   ]
  },
  {
   "cell_type": "code",
   "execution_count": 16,
   "metadata": {},
   "outputs": [],
   "source": [
    "# 检查是否打开正确\n",
    "if vc.isOpened():\n",
    "    openvc, frame = vc.read()\n",
    "else:\n",
    "    open = False"
   ]
  },
  {
   "cell_type": "code",
   "execution_count": 17,
   "metadata": {},
   "outputs": [],
   "source": [
    "while open:\n",
    "    ret, frame = vc.read()\n",
    "    if frame is None:\n",
    "        break\n",
    "    if ret == True:\n",
    "        gray = cv2.cvtColor(frame, cv2.COLOR_BGR2GRAY)\n",
    "        cv2.imshow('result', gray)\n",
    "        if cv2.waitKey(10) & 0xFF == 27:\n",
    "            break\n",
    "vc.release()\n",
    "cv2.destroyAllWindows()\n"
   ]
  },
  {
   "cell_type": "markdown",
   "metadata": {},
   "source": [
    "截取部分图像数据"
   ]
  },
  {
   "cell_type": "code",
   "execution_count": null,
   "metadata": {},
   "outputs": [],
   "source": [
    "img = cv2.imread()"
   ]
  }
 ],
 "metadata": {
  "kernelspec": {
   "display_name": "base",
   "language": "python",
   "name": "python3"
  },
  "language_info": {
   "codemirror_mode": {
    "name": "ipython",
    "version": 3
   },
   "file_extension": ".py",
   "mimetype": "text/x-python",
   "name": "python",
   "nbconvert_exporter": "python",
   "pygments_lexer": "ipython3",
   "version": "3.11.5"
  }
 },
 "nbformat": 4,
 "nbformat_minor": 2
}
