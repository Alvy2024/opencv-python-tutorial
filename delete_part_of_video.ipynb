{
 "cells": [
  {
   "cell_type": "code",
   "execution_count": null,
   "metadata": {},
   "outputs": [],
   "source": [
    "# Delete part of video\n",
    "\n",
    "import cv2\n",
    "\n",
    "# Open the video file\n",
    "video_capture = cv2.VideoCapture('input.mp4')\n",
    "\n",
    "# Get the video frame rate\n",
    "fps = video_capture.get(cv2.CAP_PROP_FPS)\n",
    "\n",
    "# Set the time range to delete (in seconds)\n",
    "start_time = 21  # Start time\n",
    "end_time = 21.5  # End time\n",
    "\n",
    "# Calculate corresponding frames\n",
    "start_frame = int(start_time * fps)\n",
    "end_frame = int(end_time * fps)\n",
    "\n",
    "# Create a video writer object\n",
    "output_video = cv2.VideoWriter('output.mp4',\n",
    "                               cv2.VideoWriter_fourcc(*'mp4v'),\n",
    "                               fps,\n",
    "                               (int(video_capture.get(cv2.CAP_PROP_FRAME_WIDTH)),\n",
    "                                int(video_capture.get(cv2.CAP_PROP_FRAME_HEIGHT))))\n",
    "\n",
    "# Process the video frame by frame\n",
    "frame_count = 0\n",
    "while True:\n",
    "    ret, frame = video_capture.read()\n",
    "    if not ret:\n",
    "        break\n",
    "    \n",
    "    # Skip the part to be deleted\n",
    "    if frame_count >= start_frame and frame_count <= end_frame:\n",
    "        frame_count += 1\n",
    "        continue\n",
    "    \n",
    "    # Write frames that are not to be deleted\n",
    "    output_video.write(frame)\n",
    "    frame_count += 1\n",
    "\n",
    "    # Display processing progress\n",
    "    #print(\"Processing frame: \", frame_count)\n",
    "\n",
    "# Release resources\n",
    "video_capture.release()\n",
    "output_video.release()\n",
    "cv2.destroyAllWindows()\n"
   ]
  }
 ],
 "metadata": {
  "language_info": {
   "name": "python"
  }
 },
 "nbformat": 4,
 "nbformat_minor": 2
}
