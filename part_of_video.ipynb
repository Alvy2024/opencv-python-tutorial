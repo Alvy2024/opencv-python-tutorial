{
 "cells": [
  {
   "cell_type": "code",
   "execution_count": null,
   "metadata": {},
   "outputs": [],
   "source": [
    "# Get a part of the video\n",
    "\n",
    "import cv2\n",
    "\n",
    "# Input and output video file paths\n",
    "input_video_path = \"input.mp4\"\n",
    "output_video_path = \"output.mp4\"\n",
    "\n",
    "# Time interval to trim the video\n",
    "start_time = 8  # Start time (in seconds)\n",
    "end_time = 29  # End time (in seconds)\n",
    "\n",
    "# Open the input video file\n",
    "cap = cv2.VideoCapture(input_video_path)\n",
    "\n",
    "# Get the frame rate and total number of frames of the video\n",
    "fps = cap.get(cv2.CAP_PROP_FPS)\n",
    "total_frames = int(cap.get(cv2.CAP_PROP_FRAME_COUNT))\n",
    "\n",
    "# Calculate the start frame and end frame\n",
    "start_frame = int(start_time * fps)\n",
    "end_frame = min(int(end_time * fps), total_frames)\n",
    "\n",
    "# Create a VideoWriter object\n",
    "fourcc = cv2.VideoWriter_fourcc(*'mp4v')  # Video codec\n",
    "out = cv2.VideoWriter(output_video_path, fourcc, fps, (int(cap.get(3)), int(cap.get(4))))\n",
    "\n",
    "# Set the video file reading pointer to the start frame\n",
    "cap.set(cv2.CAP_PROP_POS_FRAMES, start_frame)\n",
    "\n",
    "# Read video frames and write to the output video\n",
    "for frame_num in range(start_frame, end_frame):\n",
    "    ret, frame = cap.read()\n",
    "    if not ret:\n",
    "        break\n",
    "    out.write(frame)\n",
    "\n",
    "# Release VideoCapture and VideoWriter objects\n",
    "cap.release()\n",
    "out.release()\n",
    "\n",
    "print(\"Video successfully trimmed and saved to:\", output_video_path)\n"
   ]
  }
 ],
 "metadata": {
  "language_info": {
   "name": "python"
  }
 },
 "nbformat": 4,
 "nbformat_minor": 2
}
