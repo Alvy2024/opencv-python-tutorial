{
 "cells": [
  {
   "cell_type": "code",
   "execution_count": null,
   "metadata": {},
   "outputs": [],
   "source": [
    "# Resize video\n",
    "\n",
    "import cv2\n",
    "\n",
    "# Read the input video\n",
    "input_video = \"input.mp4\"\n",
    "cap = cv2.VideoCapture(input_video)\n",
    "\n",
    "# Get the original resolution of the input video\n",
    "frame_width = int(cap.get(cv2.CAP_PROP_FRAME_WIDTH))\n",
    "frame_height = int(cap.get(cv2.CAP_PROP_FRAME_HEIGHT))\n",
    "\n",
    "# Set the output video resolution to 1080p\n",
    "output_width = 1920\n",
    "output_height = 1080\n",
    "\n",
    "# Create the output video object\n",
    "output_video = \"output.mp4\"\n",
    "fourcc = cv2.VideoWriter_fourcc(*'mp4v')\n",
    "out = cv2.VideoWriter(output_video, fourcc, 30, (output_width, output_height))\n",
    "\n",
    "# Process each frame of the input video\n",
    "while cap.isOpened():\n",
    "    ret, frame = cap.read()\n",
    "    if ret:\n",
    "        # Resize the frame to 1080p resolution\n",
    "        frame = cv2.resize(frame, (output_width, output_height))\n",
    "        \n",
    "        # Write the frame to the output video\n",
    "        out.write(frame)\n",
    "        \n",
    "        # Display progress\n",
    "        #print(\"Processing frame: \", cap.get(cv2.CAP_PROP_POS_FRAMES))\n",
    "    else:\n",
    "        break\n",
    "\n",
    "# Release resources\n",
    "cap.release()\n",
    "out.release()\n",
    "cv2.destroyAllWindows()\n",
    "\n",
    "print(\"Video conversion complete!\")\n"
   ]
  }
 ],
 "metadata": {
  "language_info": {
   "name": "python"
  }
 },
 "nbformat": 4,
 "nbformat_minor": 2
}
