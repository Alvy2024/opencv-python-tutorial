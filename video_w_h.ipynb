{
 "cells": [
  {
   "cell_type": "code",
   "execution_count": null,
   "metadata": {},
   "outputs": [],
   "source": [
    "# Get the video's w and h\n",
    "\n",
    "import cv2\n",
    "\n",
    "# Read the video\n",
    "input_video = \"input.mp4\"\n",
    "cap = cv2.VideoCapture(input_video)\n",
    "\n",
    "# Get the original resolution of the video\n",
    "frame_width = int(cap.get(cv2.CAP_PROP_FRAME_WIDTH))\n",
    "frame_height = int(cap.get(cv2.CAP_PROP_FRAME_HEIGHT))\n",
    "\n",
    "print(\"Original video resolution: {}x{}\".format(frame_width, frame_height))\n"
   ]
  }
 ],
 "metadata": {
  "language_info": {
   "name": "python"
  }
 },
 "nbformat": 4,
 "nbformat_minor": 2
}
